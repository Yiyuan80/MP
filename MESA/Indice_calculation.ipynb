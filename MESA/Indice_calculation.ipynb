{
  "nbformat": 4,
  "nbformat_minor": 0,
  "metadata": {
    "colab": {
      "name": "Indice_calculation.ipynb",
      "provenance": [],
      "collapsed_sections": [],
      "mount_file_id": "1L6-DJYC6jT5SIc3qfkxwHMvRUfgVfIAl",
      "authorship_tag": "ABX9TyORfvZnesrzOeOvJGG/HAv+",
      "include_colab_link": true
    },
    "kernelspec": {
      "name": "python3",
      "display_name": "Python 3"
    },
    "language_info": {
      "name": "python"
    }
  },
  "cells": [
    {
      "cell_type": "markdown",
      "metadata": {
        "id": "view-in-github",
        "colab_type": "text"
      },
      "source": [
        "<a href=\"https://colab.research.google.com/github/Yiyuan80/MP/blob/main/Indice_calculation.ipynb\" target=\"_parent\"><img src=\"https://colab.research.google.com/assets/colab-badge.svg\" alt=\"Open In Colab\"/></a>"
      ]
    },
    {
      "cell_type": "code",
      "metadata": {
        "colab": {
          "base_uri": "https://localhost:8080/"
        },
        "id": "ei64otra67Oq",
        "outputId": "3c441b6b-0cb2-43ab-daa2-9f5fc999aadd"
      },
      "source": [
        "import google.colab\n",
        "google.colab.drive.mount('/content/drive')"
      ],
      "execution_count": null,
      "outputs": [
        {
          "output_type": "stream",
          "name": "stdout",
          "text": [
            "Drive already mounted at /content/drive; to attempt to forcibly remount, call drive.mount(\"/content/drive\", force_remount=True).\n"
          ]
        }
      ]
    },
    {
      "cell_type": "code",
      "metadata": {
        "id": "Kr9VUBqQlU8t"
      },
      "source": [
        "# !pip install tsfel"
      ],
      "execution_count": null,
      "outputs": []
    },
    {
      "cell_type": "code",
      "metadata": {
        "id": "RONiffDK_NpT"
      },
      "source": [
        "import os\n",
        "import pandas as pd\n",
        "import numpy as np\n",
        "import datetime\n",
        "import math\n",
        "import time\n",
        "import itertools\n",
        "from matplotlib import pyplot as plt\n",
        "from sklearn import preprocessing\n",
        "import tsfel"
      ],
      "execution_count": null,
      "outputs": []
    },
    {
      "cell_type": "code",
      "metadata": {
        "id": "lRvnZPUazb3B"
      },
      "source": [
        "# load name_list\n",
        "id_list = []\n",
        "with open(\"/content/drive/MyDrive/mesa/filtered_id.txt\") as f:\n",
        "  for line in f:\n",
        "    id_list.append(line.strip())"
      ],
      "execution_count": null,
      "outputs": []
    },
    {
      "cell_type": "code",
      "metadata": {
        "id": "nkASGSdW7_8c"
      },
      "source": [
        "def time_series(filenames):\n",
        "  \"\"\"Extract time series features from every participant.\"\"\"\n",
        "\n",
        "  # Retrieves a pre-defined feature configuration file to extract all available features\n",
        "  cfg = tsfel.get_features_by_domain()\n",
        "\n",
        "  time_series = pd.DataFrame([])\n",
        "\n",
        "  for file in filenames:\n",
        "\n",
        "    print('Parsing:',file)\n",
        "\n",
        "    df = pd.read_csv(file)\n",
        "    last_day = df['daybymidnight'].unique()[-1]\n",
        "\n",
        "    # preprocess data\n",
        "    # impute missingness less than 30 and exclude days with >30 missing\n",
        "    missing = df.loc[df['interval']=='EXCLUDED']\n",
        "    missing_count = missing.groupby(['daybymidnight']).count()\n",
        "    missing_exclude = missing_count.loc[missing_count['interval']>30]\n",
        "    missing_impute = missing_count.loc[missing_count['interval']<=30]\n",
        "    missing_ex_index = list(missing_exclude.index)\n",
        "    missing_im_index = list(missing_impute.index)\n",
        "    missing_ex_index.append(1) \n",
        "    missing_ex_index.append(last_day) # exclude first and last day\n",
        "\n",
        "    df_excluded = df[~df['daybymidnight'].isin(missing_ex_index)] # exclude days with larger than 30 excluded\n",
        "    # df_impute = df_excluded[df_excluded['daybymidnight'].isin(missing_im_index)] # find days left need to be imputed\n",
        "    df_imputed = df_excluded.fillna(method='ffill') # conduct forward fill\n",
        "    days = df_excluded['daybymidnight'].unique()\n",
        "\n",
        "    # Extract features\n",
        "    X = tsfel.time_series_features_extractor(cfg, df_imputed[['activity']])\n",
        "    # Insert id\n",
        "    X.insert(0,'mesaid',df['mesaid'].unique()[0])\n",
        "    # Combine features of all the ids\n",
        "    time_series = pd.concat([time_series,X])\n",
        "\n",
        "  # save to csv\n",
        "  time_series.to_csv('/content/drive/MyDrive/mesa/time_series_features.csv')\n",
        "  return time_series"
      ],
      "execution_count": null,
      "outputs": []
    },
    {
      "cell_type": "code",
      "metadata": {
        "id": "Myy-dtgjL7bp"
      },
      "source": [
        "time_series(id_list)"
      ],
      "execution_count": null,
      "outputs": []
    },
    {
      "cell_type": "code",
      "metadata": {
        "id": "W9jquXRjy9xa"
      },
      "source": [
        "def sleep_reg_index(sleep, epoch = 2880):\n",
        "  \"\"\"Calculate SRI.\"\"\"\n",
        "  sleep_arr = sleep.reshape(-1,2880)\n",
        "  diff = np.array([], dtype=np.int64).reshape(0,2880)\n",
        "  for i in range(sleep_arr.shape[0]-1):\n",
        "    diff = np.concatenate((diff, (sleep_arr[i,:] == sleep_arr[i+1,:]).astype(int).reshape(-1,2880)))\n",
        "  return np.sum(diff)*200 / ((sleep_arr.shape[0]-1) * epoch) - 100\n"
      ],
      "execution_count": null,
      "outputs": []
    },
    {
      "cell_type": "code",
      "metadata": {
        "id": "l_LMlCuSFAKY"
      },
      "source": [
        "def mdpt(sleep,start=0):\n",
        "    '''Circular mean:\n",
        "\n",
        "    Note that sleep==1 -> sleep, sleep==0 -> wake''' \n",
        "\n",
        "    sleep_mat = np.reshape(sleep,(2880,-1),order='F') \n",
        "\n",
        "    cosines = np.expand_dims(np.cos(np.arange(2880)*2*np.pi/2880),axis=1)\n",
        "\n",
        "    sines = np.expand_dims(np.sin(np.arange(2880)*2*np.pi/2880),axis=1) \n",
        "    \n",
        "    tm = 1440*np.arctan2(np.nansum(sines*sleep_mat),np.nansum(cosines*sleep_mat))/np.pi \n",
        "\n",
        "    return (tm+start*2)%2880"
      ],
      "execution_count": null,
      "outputs": []
    },
    {
      "cell_type": "code",
      "metadata": {
        "id": "W6NWOz9h2GPs"
      },
      "source": [
        "def wake_aso(data, days):\n",
        "  \"\"\"Calculate waso, which is in minutes.\"\"\"\n",
        "  sleep_time = data.loc[(data['interval']=='REST-S')]\n",
        "  waso_epoch=sleep_time['wake'].loc[sleep_time['wake']==1]\n",
        "  waso = len(waso_epoch)/(len(days)*2)\n",
        "  return waso"
      ],
      "execution_count": null,
      "outputs": []
    },
    {
      "cell_type": "code",
      "metadata": {
        "id": "Lr61_gR0bqFi"
      },
      "source": [
        "def se(data):\n",
        "  \"\"\"Calculate sleep efficiency.\"\"\"\n",
        "  sleep_time = data['interval'].loc[data['interval']=='REST-S']\n",
        "  TIB = data['interval'].loc[(data['interval']=='REST-S')|(data['interval']=='REST')] #Time in bed\n",
        "  se = len(sleep_time)/len(TIB)\n",
        "  return se"
      ],
      "execution_count": null,
      "outputs": []
    },
    {
      "cell_type": "code",
      "metadata": {
        "id": "C58TkYJwWv_n"
      },
      "source": [
        "def mean_sd_activity(activity):\n",
        "  \"\"\"Calculate mean and sd of activity.\"\"\"\n",
        "  activity = np.nan_to_num(activity) # replace nan with 0\n",
        "  return activity.mean(),activity.std()"
      ],
      "execution_count": null,
      "outputs": []
    },
    {
      "cell_type": "code",
      "metadata": {
        "id": "NBX2j5987Mkj"
      },
      "source": [
        "def sleep_indices(filenames):\n",
        "  \"\"\"Calculate sleep indices of each participant in mesa data.\n",
        "  The first day and last generally do not start or end at noon or midnight.\n",
        "  Therefore, we exclude data of first day and last day\"\"\"\n",
        "\n",
        "  # dir = os.listdir(path)\n",
        "\n",
        "  mesaid = []\n",
        "  total_sleep = []\n",
        "  SRI = []\n",
        "  midpoint = []\n",
        "  waso = []\n",
        "  mean_activity = []\n",
        "  sd_activity = []\n",
        "\n",
        "  # for i in dir:\n",
        "  for file in filenames:\n",
        "\n",
        "    print('parsing:',file)\n",
        "    # load data\n",
        "    df = pd.read_csv(file) # load actigraphy\n",
        "    last_day = df['daybymidnight'].unique()[-1]\n",
        "\n",
        "    # impute missingness less than 30 and exclude days with >30 missing\n",
        "    missing = df.loc[df['interval']=='EXCLUDED']\n",
        "    missing_count = missing.groupby(['daybymidnight']).count()\n",
        "    missing_exclude = missing_count.loc[missing_count['interval']>30]\n",
        "    missing_impute = missing_count.loc[missing_count['interval']<=30]\n",
        "    missing_ex_index = list(missing_exclude.index)\n",
        "    missing_im_index = list(missing_impute.index)\n",
        "\n",
        "    missing_ex_index.append(1) \n",
        "    missing_ex_index.append(last_day) # exclude first and last day\n",
        "    \n",
        "    df_excluded = df[~df['daybymidnight'].isin(missing_ex_index)] # exclude days with larger than 30 excluded\n",
        "    # df_impute = df_excluded[df_excluded['daybymidnight'].isin(missing_im_index)] # find days left need to be imputed\n",
        "    df_imputed = df_excluded.fillna(method='ffill') # conduct forward fill\n",
        "    days = df_excluded['daybymidnight'].unique()\n",
        "\n",
        "    # append id\n",
        "    mesaid.append(df_imputed['mesaid'].iloc[0])\n",
        "\n",
        "    # # data preparation\n",
        "    # days = list(set(data['daybymidnight']))[1:-1] # create a list of days excluding first and last day\n",
        "    # data = data.loc[data['daybymidnight'].isin(days)] # exclude data of first and last day\n",
        "    # data['wake'].mask(data['wake'].isnull().values == True, 1, inplace = True) # impute missing values with 1\n",
        "\n",
        "    sleep = df_imputed['wake'].to_numpy()\n",
        "    activity = df_excluded['activity'].to_numpy()\n",
        "\n",
        "\n",
        "    # Total sleep time\n",
        "    aver_total_sleep = (1-df_imputed['wake'].sum()/(len(days)*2880))*1440 # compute the average total sleep time\n",
        "    total_sleep.append(aver_total_sleep)\n",
        "\n",
        "    # SRI\n",
        "    sleep_reg = sleep_reg_index(sleep, epoch = 2880)\n",
        "    SRI.append(sleep_reg)\n",
        "\n",
        "    # Midpoint\n",
        "    midpoint.append(mdpt(sleep,start=0))\n",
        "\n",
        "    # Wake after sleep onsite\n",
        "    waso_index = wake_aso(df_imputed, days)\n",
        "    waso.append(waso_index)\n",
        "\n",
        "\n",
        "    # # sleep efficiency\n",
        "    # se = se(data)\n",
        "    \n",
        "    # activity mean and sd\n",
        "    mean_act, sd_act = mean_sd_activity(activity)\n",
        "    mean_activity.append(mean_act)\n",
        "    sd_activity.append(sd_act)\n",
        "\n",
        "  indices = {\n",
        "      'mesaid': mesaid,\n",
        "      'total_sleep': total_sleep,\n",
        "      'SRI': SRI,   \n",
        "      'sleep_midpoint': midpoint,\n",
        "      'waso': waso,\n",
        "      'mean_activity': mean_activity,\n",
        "      'sd_activity': sd_activity\n",
        "  }\n",
        "  indices = pd.DataFrame(indices)\n",
        "  indices.to_csv('/content/drive/MyDrive/mesa/mesa_indices.csv')\n",
        "  return indices"
      ],
      "execution_count": null,
      "outputs": []
    },
    {
      "cell_type": "code",
      "metadata": {
        "id": "793SkhRgNTC3"
      },
      "source": [
        "sleep_indices(id_list)"
      ],
      "execution_count": null,
      "outputs": []
    }
  ]
}
